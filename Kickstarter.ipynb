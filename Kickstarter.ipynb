{
 "cells": [
  {
   "cell_type": "markdown",
   "id": "509f2502",
   "metadata": {},
   "source": [
    "# Predicting Kickstarter Success"
   ]
  },
  {
   "cell_type": "markdown",
   "id": "9b4e95e1",
   "metadata": {},
   "source": [
    "### Steps\n",
    "1. Explore and clean data\n",
    "2. Feature engineer \"campaign_length\"\n",
    "3. Normalize data\n",
    "4. Use these features in a Feed-Forward Neural Net first:\n",
    "    - Goal (make sure to convert all non-US currencies to US) (number)\n",
    "    - Category (dropdown → string)\n",
    "    - Main category (dropdown → string)\n",
    "    - Campaign length (in days)\n",
    "- We are predicting \"Pledged Amount\"\n",
    "5. Document score\n",
    "6. Add in \"name\", tokenize and vectorize, pad_sequence up to MAXLEN\n",
    "7. Run Neural Net, docuemnt score\n",
    "8. Build LSTM, run and document score\n",
    "9. Choose which model to train hyperparameters on\n",
    "10. Make param_grid and set up GridSearchCV\n",
    "11. Git push, tell Jonathan it's ready for training\n",
    "12. Pickle and save model, help data engineering team"
   ]
  },
  {
   "cell_type": "code",
   "execution_count": 2,
   "id": "5e6ee720",
   "metadata": {},
   "outputs": [],
   "source": [
    "# Import libraries\n",
    "import os\n",
    "import datetime\n",
    "import numpy as np\n",
    "import pandas as pd\n",
    "import matplotlib.pyplot as plt\n",
    "import seaborn as sns\n",
    "\n",
    "import tensorflow as tf\n",
    "from tensorflow.keras.models import Sequential\n",
    "from tensorflow.keras.layers import Dense, Embedding\n",
    "from tensorflow.keras.layers import Bidirectional, LSTM\n",
    "from tensorflow.keras.preprocessing import sequence\n",
    "\n",
    "from tensorflow.keras.callbacks import EarlyStopping\n",
    "from tensorflow.keras.layers import Dropout\n",
    "from tensorflow.keras.constraints import MaxNorm"
   ]
  },
  {
   "cell_type": "code",
   "execution_count": 3,
   "id": "8a1f7bc5",
   "metadata": {},
   "outputs": [],
   "source": [
    "# Import dataset\n",
    "data_url = 'kickstarter_dataset.csv'\n",
    "df = pd.read_csv(\n",
    "    data_url, \n",
    "    encoding_errors=\"ignore\",\n",
    "    low_memory=False\n",
    ")\n",
    "# df = df.drop(columns=[\"backers\",\"country\",\"usd pledged\",\n",
    "#                       \"Unnamed: 13\",\"Unnamed: 14\",\"Unnamed: 15\",\n",
    "#                      \"Unnamed: 16\"])\n",
    "\n",
    "df = df.iloc[:,:-5]"
   ]
  },
  {
   "cell_type": "code",
   "execution_count": null,
   "id": "dd5c5c54",
   "metadata": {},
   "outputs": [],
   "source": []
  }
 ],
 "metadata": {
  "kernelspec": {
   "display_name": "Kickstarter",
   "language": "python",
   "name": "kickstarter"
  },
  "language_info": {
   "codemirror_mode": {
    "name": "ipython",
    "version": 3
   },
   "file_extension": ".py",
   "mimetype": "text/x-python",
   "name": "python",
   "nbconvert_exporter": "python",
   "pygments_lexer": "ipython3",
   "version": "3.9.9"
  }
 },
 "nbformat": 4,
 "nbformat_minor": 5
}
